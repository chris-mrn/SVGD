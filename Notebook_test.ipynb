{
 "cells": [
  {
   "cell_type": "code",
   "execution_count": 196,
   "metadata": {},
   "outputs": [
    {
     "name": "stdout",
     "output_type": "stream",
     "text": [
      "tensor([0.9484, 0.9968, 0.1139, 0.1644, 0.6072, 0.6676, 0.5972, 0.1110, 0.5413,\n",
      "        0.4015, 0.9664, 0.6872, 0.3729, 0.3323, 0.5008, 0.8693, 0.3730, 0.4554,\n",
      "        0.9992, 0.8264, 0.0413, 0.7369, 0.2980, 0.3848, 0.8912, 0.2286, 0.3295,\n",
      "        0.7852, 0.9623, 0.9131, 0.3145, 0.3393, 0.8932, 0.7976, 0.5308, 0.6307,\n",
      "        0.0964, 0.9471, 0.0978, 0.8177, 0.4277, 0.7191, 0.6113, 0.5254, 0.3987,\n",
      "        0.6476, 0.4261, 0.3700, 0.3669, 0.6692, 0.3748, 0.1075, 0.9321, 0.1292,\n",
      "        0.4597, 0.7173, 0.0172, 0.7297, 0.1199, 0.6582, 0.9796, 0.5220, 0.7808,\n",
      "        0.6904, 0.0221, 0.8738, 0.3662, 0.5404, 0.8001, 0.8667, 0.7823, 0.3636,\n",
      "        0.1472, 0.6102, 0.3713, 0.1310, 0.4415, 0.5932, 0.6863, 0.7568, 0.5592,\n",
      "        0.4727, 0.0262, 0.4810, 0.0892, 0.3790, 0.2465, 0.5341, 0.9231, 0.5995,\n",
      "        0.0372, 0.2820, 0.6763, 0.8893, 0.3101, 0.2034, 0.8087, 0.1434, 0.5552,\n",
      "        0.5403], requires_grad=True)\n"
     ]
    }
   ],
   "source": [
    "import torch\n",
    "\n",
    "a = torch.rand(100).requires_grad_()\n",
    "print(a)"
   ]
  },
  {
   "cell_type": "code",
   "execution_count": 197,
   "metadata": {},
   "outputs": [],
   "source": [
    "from torch.utils.data import DataLoader\n",
    "\n",
    "dataloader = DataLoader(a, batch_size=32, shuffle=False)"
   ]
  },
  {
   "cell_type": "code",
   "execution_count": 198,
   "metadata": {},
   "outputs": [],
   "source": [
    "optimizer = torch.optim.SGD([a], lr=0.1, momentum=0.9)"
   ]
  },
  {
   "cell_type": "code",
   "execution_count": 192,
   "metadata": {},
   "outputs": [
    {
     "name": "stdout",
     "output_type": "stream",
     "text": [
      "tensor(1.)\n",
      "tensor(1.)\n",
      "tensor(1.)\n",
      "tensor(1.)\n",
      "tensor(1.)\n",
      "tensor(1.)\n",
      "tensor(1.)\n",
      "tensor(1.)\n",
      "tensor(1.)\n",
      "tensor(1.)\n",
      "tensor(1.)\n",
      "tensor(1.)\n",
      "tensor(1.)\n",
      "tensor(1.)\n",
      "tensor(1.)\n",
      "tensor(1.)\n",
      "tensor(1.)\n",
      "tensor(1.)\n",
      "tensor(1.)\n",
      "tensor(1.)\n",
      "tensor(1.)\n",
      "tensor(1.)\n",
      "tensor(1.)\n",
      "tensor(1.)\n",
      "tensor(1.)\n",
      "tensor(1.)\n",
      "tensor(1.)\n",
      "tensor(1.)\n",
      "tensor(1.)\n",
      "tensor(1.)\n",
      "tensor(1.)\n",
      "tensor(1.)\n",
      "tensor(1.)\n",
      "tensor(1.)\n",
      "tensor(1.)\n",
      "tensor(1.)\n",
      "tensor(1.)\n",
      "tensor(1.)\n",
      "tensor(1.)\n",
      "tensor(1.)\n",
      "tensor(1.)\n",
      "tensor(1.)\n",
      "tensor(1.)\n",
      "tensor(1.)\n",
      "tensor(1.)\n",
      "tensor(1.)\n",
      "tensor(1.)\n",
      "tensor(1.)\n",
      "tensor(1.)\n",
      "tensor(1.)\n",
      "tensor(1.)\n",
      "tensor(1.)\n",
      "tensor(1.)\n",
      "tensor(1.)\n",
      "tensor(1.)\n",
      "tensor(1.)\n",
      "tensor(1.)\n",
      "tensor(1.)\n",
      "tensor(1.)\n",
      "tensor(1.)\n",
      "tensor(1.)\n",
      "tensor(1.)\n",
      "tensor(1.)\n",
      "tensor(1.)\n",
      "tensor(1.)\n",
      "tensor(1.)\n",
      "tensor(1.)\n",
      "tensor(1.)\n",
      "tensor(1.)\n",
      "tensor(1.)\n",
      "tensor(1.)\n",
      "tensor(1.)\n",
      "tensor(1.)\n",
      "tensor(1.)\n",
      "tensor(1.)\n",
      "tensor(1.)\n",
      "tensor(1.)\n",
      "tensor(1.)\n",
      "tensor(1.)\n",
      "tensor(1.)\n"
     ]
    }
   ],
   "source": [
    "for epoch in range(20):\n",
    "    for batch, X in enumerate(dataloader):\n",
    "        optimizer.zero_grad()\n",
    "        b = 0.5* torch.sum((X-2)**2)\n",
    "        b.retain_grad()\n",
    "        b.backward()\n",
    "        print(b.grad)\n",
    "        optimizer.step()\n"
   ]
  },
  {
   "cell_type": "code",
   "execution_count": 170,
   "metadata": {},
   "outputs": [
    {
     "name": "stdout",
     "output_type": "stream",
     "text": [
      "tensor(0.0004, grad_fn=<MulBackward0>)\n"
     ]
    }
   ],
   "source": [
    "print(b)"
   ]
  },
  {
   "cell_type": "code",
   "execution_count": 171,
   "metadata": {},
   "outputs": [
    {
     "name": "stdout",
     "output_type": "stream",
     "text": [
      "tensor([1.9790, 1.9747, 1.9727, 1.9819, 1.9813, 1.9791, 1.9838, 1.9771, 1.9795,\n",
      "        1.9846, 1.9790, 1.9791, 1.9752, 1.9832, 1.9798, 1.9736, 1.9824, 1.9783,\n",
      "        1.9773, 1.9712, 1.9782, 1.9814, 1.9827, 1.9745, 1.9763, 1.9831, 1.9705,\n",
      "        1.9780, 1.9770, 1.9826, 1.9800, 1.9709, 1.9742, 1.9844, 1.9847, 1.9781,\n",
      "        1.9817, 1.9779, 1.9763, 1.9734, 1.9709, 1.9731, 1.9714, 1.9777, 1.9812,\n",
      "        1.9730, 1.9744, 1.9744, 1.9793, 1.9788, 1.9752, 1.9740, 1.9730, 1.9821,\n",
      "        1.9783, 1.9812, 1.9828, 1.9769, 1.9801, 1.9839, 1.9761, 1.9807, 1.9782,\n",
      "        1.9731, 1.9755, 1.9729, 1.9765, 1.9766, 1.9773, 1.9808, 1.9781, 1.9722,\n",
      "        1.9812, 1.9771, 1.9768, 1.9720, 1.9806, 1.9745, 1.9765, 1.9771, 1.9731,\n",
      "        1.9794, 1.9759, 1.9808, 1.9788, 1.9771, 1.9811, 1.9770, 1.9739, 1.9718,\n",
      "        1.9783, 1.9715, 1.9786, 1.9723, 1.9830, 1.9796, 1.9855, 1.9854, 1.9846,\n",
      "        1.9851], requires_grad=True)\n"
     ]
    }
   ],
   "source": [
    "print(a)"
   ]
  }
 ],
 "metadata": {
  "kernelspec": {
   "display_name": "svgd",
   "language": "python",
   "name": "python3"
  },
  "language_info": {
   "codemirror_mode": {
    "name": "ipython",
    "version": 3
   },
   "file_extension": ".py",
   "mimetype": "text/x-python",
   "name": "python",
   "nbconvert_exporter": "python",
   "pygments_lexer": "ipython3",
   "version": "3.10.16"
  }
 },
 "nbformat": 4,
 "nbformat_minor": 2
}
